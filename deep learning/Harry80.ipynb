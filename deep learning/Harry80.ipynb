{
 "cells": [
  {
   "cell_type": "code",
   "execution_count": 1,
   "id": "f8e9d50c",
   "metadata": {},
   "outputs": [
    {
     "name": "stdout",
     "output_type": "stream",
     "text": [
      "WARNING:tensorflow:From c:\\Users\\harun\\anaconda3\\lib\\site-packages\\keras\\src\\losses.py:2976: The name tf.losses.sparse_softmax_cross_entropy is deprecated. Please use tf.compat.v1.losses.sparse_softmax_cross_entropy instead.\n",
      "\n"
     ]
    }
   ],
   "source": [
    "#Soru1\n",
    "\n",
    "import tensorflow as tf\n",
    "from tensorflow.keras import models, layers\n",
    "import os\n",
    "import numpy as np\n",
    "import matplotlib.pyplot as plt\n",
    "from sklearn.model_selection import train_test_split\n",
    "from keras.models import Sequential\n",
    "from keras.layers import Conv2D, MaxPooling2D, Flatten, Dense\n",
    "from keras.preprocessing.image import ImageDataGenerator, load_img, img_to_array\n",
    "import tensorflow as tf\n",
    "from tensorflow.keras.preprocessing import image_dataset_from_directory"
   ]
  },
  {
   "cell_type": "code",
   "execution_count": 11,
   "id": "c06108ca",
   "metadata": {},
   "outputs": [
    {
     "name": "stdout",
     "output_type": "stream",
     "text": [
      "Found 13478 files belonging to 4 classes.\n"
     ]
    }
   ],
   "source": [
    "dataset_path = \"C:\\Bananat\"\n",
    "dataset = tf.keras.preprocessing.image_dataset_from_directory(dataset_path)\n",
    "#dataset = tf.keras.preprocessing.image_dataset_from_directory(\"C:/Users/Pc/Desktop/Bananat\")"
   ]
  },
  {
   "cell_type": "code",
   "execution_count": 12,
   "id": "a2ca379a",
   "metadata": {},
   "outputs": [
    {
     "data": {
      "text/plain": [
       "['overripe', 'ripe', 'rotten', 'unripe']"
      ]
     },
     "execution_count": 12,
     "metadata": {},
     "output_type": "execute_result"
    }
   ],
   "source": [
    "labels = dataset.class_names\n",
    "labels"
   ]
  },
  {
   "cell_type": "code",
   "execution_count": 13,
   "id": "1adddf63",
   "metadata": {},
   "outputs": [],
   "source": [
    "img_size = (64, 64)"
   ]
  },
  {
   "cell_type": "code",
   "execution_count": 14,
   "id": "b3359106",
   "metadata": {},
   "outputs": [],
   "source": [
    "data = []\n",
    "for label in labels:\n",
    "    label_path = os.path.join(dataset_path, label)\n",
    "    for img_file in os.listdir(label_path):\n",
    "        img_path = os.path.join(label_path, img_file)\n",
    "        img = load_img(img_path, target_size=img_size)\n",
    "        img_array = img_to_array(img)\n",
    "        data.append((img_array, label))"
   ]
  },
  {
   "cell_type": "code",
   "execution_count": 15,
   "id": "5e40a7f1",
   "metadata": {},
   "outputs": [],
   "source": [
    "X = np.array([item[0] for item in data])\n",
    "y = np.array([labels.index(item[1]) for item in data])"
   ]
  },
  {
   "cell_type": "code",
   "execution_count": 16,
   "id": "5ac28e1e",
   "metadata": {},
   "outputs": [],
   "source": [
    "X_train, X_test, y_train, y_test = train_test_split(X, y, test_size=0.2, random_state=42)"
   ]
  },
  {
   "cell_type": "code",
   "execution_count": 17,
   "id": "62390ef8",
   "metadata": {},
   "outputs": [],
   "source": [
    "X_train, X_val, y_train, y_val = train_test_split(X_train, y_train, test_size=0.1, random_state=42)"
   ]
  },
  {
   "cell_type": "code",
   "execution_count": 18,
   "id": "661c83d8",
   "metadata": {},
   "outputs": [
    {
     "name": "stdout",
     "output_type": "stream",
     "text": [
      "WARNING:tensorflow:From c:\\Users\\harun\\anaconda3\\lib\\site-packages\\keras\\src\\backend.py:873: The name tf.get_default_graph is deprecated. Please use tf.compat.v1.get_default_graph instead.\n",
      "\n",
      "WARNING:tensorflow:From c:\\Users\\harun\\anaconda3\\lib\\site-packages\\keras\\src\\layers\\pooling\\max_pooling2d.py:161: The name tf.nn.max_pool is deprecated. Please use tf.nn.max_pool2d instead.\n",
      "\n"
     ]
    }
   ],
   "source": [
    "model = Sequential()\n",
    "model.add(Conv2D(32, (3, 3), activation='relu', input_shape=(64, 64, 3)))\n",
    "model.add(MaxPooling2D((2, 2)))\n",
    "model.add(Conv2D(64, (3, 3), activation='relu'))\n",
    "model.add(MaxPooling2D((2, 2)))\n",
    "model.add(Flatten())\n",
    "model.add(Dense(128, activation='relu'))\n",
    "model.add(Dense(4, activation='softmax'))"
   ]
  },
  {
   "cell_type": "code",
   "execution_count": 19,
   "id": "afb4cb11",
   "metadata": {},
   "outputs": [
    {
     "name": "stdout",
     "output_type": "stream",
     "text": [
      "WARNING:tensorflow:From c:\\Users\\harun\\anaconda3\\lib\\site-packages\\keras\\src\\optimizers\\__init__.py:309: The name tf.train.Optimizer is deprecated. Please use tf.compat.v1.train.Optimizer instead.\n",
      "\n"
     ]
    }
   ],
   "source": [
    "model.compile(optimizer='adam', loss='sparse_categorical_crossentropy', metrics=['accuracy'])"
   ]
  },
  {
   "cell_type": "code",
   "execution_count": 20,
   "id": "1cf7d5de",
   "metadata": {},
   "outputs": [],
   "source": [
    "datagen = ImageDataGenerator(\n",
    "    rotation_range=20,\n",
    "    width_shift_range=0.2,\n",
    "    height_shift_range=0.2,\n",
    "    horizontal_flip=True\n",
    ")"
   ]
  },
  {
   "cell_type": "code",
   "execution_count": 21,
   "id": "4e99a58f",
   "metadata": {},
   "outputs": [
    {
     "name": "stdout",
     "output_type": "stream",
     "text": [
      "Epoch 1/10\n",
      "WARNING:tensorflow:From c:\\Users\\harun\\anaconda3\\lib\\site-packages\\keras\\src\\utils\\tf_utils.py:492: The name tf.ragged.RaggedTensorValue is deprecated. Please use tf.compat.v1.ragged.RaggedTensorValue instead.\n",
      "\n",
      "WARNING:tensorflow:From c:\\Users\\harun\\anaconda3\\lib\\site-packages\\keras\\src\\engine\\base_layer_utils.py:384: The name tf.executing_eagerly_outside_functions is deprecated. Please use tf.compat.v1.executing_eagerly_outside_functions instead.\n",
      "\n",
      "303/303 [==============================] - 22s 68ms/step - loss: 7.2548 - accuracy: 0.4604 - val_loss: 1.1289 - val_accuracy: 0.4829\n",
      "Epoch 2/10\n",
      "303/303 [==============================] - 20s 66ms/step - loss: 0.9741 - accuracy: 0.5653 - val_loss: 1.0188 - val_accuracy: 0.4977\n",
      "Epoch 3/10\n",
      "303/303 [==============================] - 20s 64ms/step - loss: 0.9886 - accuracy: 0.5451 - val_loss: 0.7630 - val_accuracy: 0.6775\n",
      "Epoch 4/10\n",
      "303/303 [==============================] - 20s 67ms/step - loss: 0.7953 - accuracy: 0.6671 - val_loss: 0.8141 - val_accuracy: 0.6691\n",
      "Epoch 5/10\n",
      "303/303 [==============================] - 20s 64ms/step - loss: 0.6889 - accuracy: 0.7297 - val_loss: 3.5519 - val_accuracy: 0.4263\n",
      "Epoch 6/10\n",
      "303/303 [==============================] - 20s 67ms/step - loss: 1.1231 - accuracy: 0.6110 - val_loss: 0.7499 - val_accuracy: 0.7044\n",
      "Epoch 7/10\n",
      "303/303 [==============================] - 22s 72ms/step - loss: 0.6764 - accuracy: 0.7295 - val_loss: 0.6792 - val_accuracy: 0.7229\n",
      "Epoch 8/10\n",
      "303/303 [==============================] - 20s 67ms/step - loss: 0.6187 - accuracy: 0.7580 - val_loss: 0.7765 - val_accuracy: 0.6895\n",
      "Epoch 9/10\n",
      "303/303 [==============================] - 21s 69ms/step - loss: 0.5578 - accuracy: 0.7817 - val_loss: 0.5354 - val_accuracy: 0.7915\n",
      "Epoch 10/10\n",
      "303/303 [==============================] - 22s 73ms/step - loss: 0.5279 - accuracy: 0.7984 - val_loss: 0.4770 - val_accuracy: 0.8091\n"
     ]
    }
   ],
   "source": [
    "history = model.fit(datagen.flow(X_train, y_train, batch_size=32),\n",
    "                    steps_per_epoch=len(X_train) / 32, epochs=10, validation_data=(X_val, y_val))"
   ]
  },
  {
   "cell_type": "code",
   "execution_count": 22,
   "id": "5fa6a719",
   "metadata": {},
   "outputs": [],
   "source": [
    "import itertools\n",
    "\n",
    "#Plot the confusion matrix. Set Normalize = True/False\n",
    "def plot_confusion_matrix(cm, classes, normalize=True, title='Confusion matrix', cmap=plt.cm.Reds):\n",
    "    \"\"\"\n",
    "    This function prints and plots the confusion matrix.\n",
    "    Normalization can be applied by setting `normalize=True`.\n",
    "    \"\"\"\n",
    "    plt.figure(figsize=(10,10))\n",
    "    plt.imshow(cm, interpolation='nearest', cmap=cmap)\n",
    "    plt.title(title)\n",
    "    plt.colorbar()\n",
    "    tick_marks = np.arange(len(classes))\n",
    "    plt.xticks(tick_marks, classes, rotation=45)\n",
    "    plt.yticks(tick_marks, classes)\n",
    "    if normalize:\n",
    "        cm = cm.astype('float') / cm.sum(axis=1)[:, np.newaxis]\n",
    "        cm = np.around(cm, decimals=2)\n",
    "        cm[np.isnan(cm)] = 0.0\n",
    "    thresh = cm.max() / 2.\n",
    "    for i, j in itertools.product(range(cm.shape[0]), range(cm.shape[1])):\n",
    "        plt.text(j, i, cm[i, j],\n",
    "                 horizontalalignment=\"center\",\n",
    "                 color=\"white\" if cm[i, j] > thresh else \"black\")\n",
    "    plt.tight_layout()\n",
    "    plt.ylabel('True label')\n",
    "    plt.xlabel('Predicted label')"
   ]
  },
  {
   "cell_type": "code",
   "execution_count": 23,
   "id": "b6ab25ac",
   "metadata": {},
   "outputs": [
    {
     "name": "stdout",
     "output_type": "stream",
     "text": [
      "85/85 [==============================] - 1s 11ms/step\n",
      "Test Accuracy: 0.8186\n",
      "Precision: 0.8258\n",
      "Recall: 0.8186\n",
      "F1 Score: 0.8182\n",
      "Confusion Matrix:\n"
     ]
    },
    {
     "data": {
      "image/png": "[encoded data removed]",
      "text/plain": [
       "<Figure size 800x600 with 2 Axes>"
      ]
     },
     "metadata": {},
     "output_type": "display_data"
    },
    {
     "name": "stdout",
     "output_type": "stream",
     "text": [
      "Classification Report:\n",
      "              precision    recall  f1-score   support\n",
      "\n",
      "    overripe       0.75      0.84      0.79       545\n",
      "        ripe       0.88      0.71      0.79       791\n",
      "      rotten       0.76      0.84      0.80       902\n",
      "      unripe       0.95      0.95      0.95       458\n",
      "\n",
      "    accuracy                           0.82      2696\n",
      "   macro avg       0.83      0.83      0.83      2696\n",
      "weighted avg       0.83      0.82      0.82      2696\n",
      "\n"
     ]
    }
   ],
   "source": [
    "from sklearn.metrics import accuracy_score, precision_score, recall_score, f1_score, confusion_matrix, classification_report\n",
    "import seaborn as sns\n",
    "\n",
    "# Modelin tahminlerini alın\n",
    "y_pred_probs = model.predict(X_test)\n",
    "y_pred = np.argmax(y_pred_probs, axis=1)\n",
    "\n",
    "# Accuracy\n",
    "accuracy = accuracy_score(y_test, y_pred)\n",
    "print(f'Test Accuracy: {accuracy:.4f}')\n",
    "\n",
    "# Precision, Recall, F1 Score\n",
    "precision = precision_score(y_test, y_pred, average='weighted')\n",
    "recall = recall_score(y_test, y_pred, average='weighted')\n",
    "f1 = f1_score(y_test, y_pred, average='weighted')\n",
    "\n",
    "print(f'Precision: {precision:.4f}')\n",
    "print(f'Recall: {recall:.4f}')\n",
    "print(f'F1 Score: {f1:.4f}')\n",
    "\n",
    "# Karmaşıklık Matrisi\n",
    "conf_matrix = confusion_matrix(y_test, y_pred)\n",
    "print('Confusion Matrix:')\n",
    "plt.figure(figsize=(8, 6))\n",
    "sns.heatmap(conf_matrix, annot=True, fmt='d', cmap='Blues', xticklabels=labels, yticklabels=labels)\n",
    "plt.title('Confusion Matrix')\n",
    "plt.xlabel('Predicted')\n",
    "plt.ylabel('True')\n",
    "plt.show()\n",
    "#print(conf_matrix)\n",
    "\n",
    "# Classification Report\n",
    "class_report = classification_report(y_test, y_pred, target_names=labels)\n",
    "print('Classification Report:')\n",
    "print(class_report)\n",
    " "
   ]
  },
  {
   "cell_type": "code",
   "execution_count": null,
   "id": "84cd4fe5",
   "metadata": {},
   "outputs": [],
   "source": [
    "#Soru2"
   ]
  },
  {
   "cell_type": "code",
   "execution_count": 24,
   "id": "ea5ee19c",
   "metadata": {},
   "outputs": [
    {
     "name": "stdout",
     "output_type": "stream",
     "text": [
      "Downloading data from https://storage.googleapis.com/tensorflow/keras-applications/vgg16/vgg16_weights_tf_dim_ordering_tf_kernels_notop.h5\n",
      "58889256/58889256 [==============================] - 51s 1us/step\n"
     ]
    }
   ],
   "source": [
    "from tensorflow.keras.applications import VGG16\n",
    "base_model = VGG16(weights='imagenet', include_top=False, input_shape=(64, 64, 3))"
   ]
  },
  {
   "cell_type": "code",
   "execution_count": 25,
   "id": "cfc832c4",
   "metadata": {},
   "outputs": [],
   "source": [
    "model = Sequential()\n",
    "model.add(base_model)\n",
    "model.add(Flatten())\n",
    "model.add(Dense(128, activation='relu'))\n",
    "model.add(Dense(4, activation='softmax'))"
   ]
  },
  {
   "cell_type": "code",
   "execution_count": 26,
   "id": "78f93e2f",
   "metadata": {},
   "outputs": [],
   "source": [
    "for layer in base_model.layers:\n",
    "    layer.trainable = False"
   ]
  },
  {
   "cell_type": "code",
   "execution_count": 27,
   "id": "d0f62f03",
   "metadata": {},
   "outputs": [],
   "source": [
    "model.compile(optimizer='adam', loss='sparse_categorical_crossentropy', metrics=['accuracy'])"
   ]
  },
  {
   "cell_type": "code",
   "execution_count": 28,
   "id": "55505fcb",
   "metadata": {},
   "outputs": [],
   "source": [
    "datagen = ImageDataGenerator(\n",
    "    rotation_range=20,\n",
    "    width_shift_range=0.2,\n",
    "    height_shift_range=0.2,\n",
    "    horizontal_flip=True\n",
    ")"
   ]
  },
  {
   "cell_type": "code",
   "execution_count": 29,
   "id": "0073e333",
   "metadata": {},
   "outputs": [
    {
     "name": "stdout",
     "output_type": "stream",
     "text": [
      "Epoch 1/10\n",
      "303/303 [==============================] - 143s 468ms/step - loss: 1.8164 - accuracy: 0.7837 - val_loss: 0.6435 - val_accuracy: 0.8184\n",
      "Epoch 2/10\n",
      "303/303 [==============================] - 138s 457ms/step - loss: 0.4606 - accuracy: 0.8456 - val_loss: 0.3903 - val_accuracy: 0.8684\n",
      "Epoch 3/10\n",
      "303/303 [==============================] - 192s 635ms/step - loss: 0.3718 - accuracy: 0.8701 - val_loss: 0.3426 - val_accuracy: 0.8804\n",
      "Epoch 4/10\n",
      "303/303 [==============================] - 220s 725ms/step - loss: 0.3069 - accuracy: 0.8945 - val_loss: 0.3283 - val_accuracy: 0.8934\n",
      "Epoch 5/10\n",
      "303/303 [==============================] - 135s 444ms/step - loss: 0.2823 - accuracy: 0.8996 - val_loss: 0.3276 - val_accuracy: 0.8971\n",
      "Epoch 6/10\n",
      "303/303 [==============================] - 122s 403ms/step - loss: 0.2735 - accuracy: 0.8995 - val_loss: 0.3154 - val_accuracy: 0.8897\n",
      "Epoch 7/10\n",
      "303/303 [==============================] - 122s 402ms/step - loss: 0.2672 - accuracy: 0.9060 - val_loss: 0.3023 - val_accuracy: 0.8999\n",
      "Epoch 8/10\n",
      "303/303 [==============================] - 124s 409ms/step - loss: 0.2576 - accuracy: 0.9078 - val_loss: 0.2632 - val_accuracy: 0.9036\n",
      "Epoch 9/10\n",
      "303/303 [==============================] - 139s 459ms/step - loss: 0.2465 - accuracy: 0.9120 - val_loss: 0.2840 - val_accuracy: 0.9036\n",
      "Epoch 10/10\n",
      "303/303 [==============================] - 249s 823ms/step - loss: 0.2307 - accuracy: 0.9149 - val_loss: 0.2693 - val_accuracy: 0.9082\n"
     ]
    }
   ],
   "source": [
    "history = model.fit(datagen.flow(X_train, y_train, batch_size=32),\n",
    "                    steps_per_epoch=len(X_train) / 32, epochs=10, validation_data=(X_val, y_val))"
   ]
  },
  {
   "cell_type": "code",
   "execution_count": 30,
   "id": "41fad6ac",
   "metadata": {},
   "outputs": [],
   "source": [
    "import itertools\n",
    "\n",
    "#Plot the confusion matrix. Set Normalize = True/False\n",
    "def plot_confusion_matrix(cm, classes, normalize=True, title='Confusion matrix', cmap=plt.cm.Reds):\n",
    "    \"\"\"\n",
    "    This function prints and plots the confusion matrix.\n",
    "    Normalization can be applied by setting `normalize=True`.\n",
    "    \"\"\"\n",
    "    plt.figure(figsize=(10,10))\n",
    "    plt.imshow(cm, interpolation='nearest', cmap=cmap)\n",
    "    plt.title(title)\n",
    "    plt.colorbar()\n",
    "    tick_marks = np.arange(len(classes))\n",
    "    plt.xticks(tick_marks, classes, rotation=45)\n",
    "    plt.yticks(tick_marks, classes)\n",
    "    if normalize:\n",
    "        cm = cm.astype('float') / cm.sum(axis=1)[:, np.newaxis]\n",
    "        cm = np.around(cm, decimals=2)\n",
    "        cm[np.isnan(cm)] = 0.0\n",
    "    thresh = cm.max() / 2.\n",
    "    for i, j in itertools.product(range(cm.shape[0]), range(cm.shape[1])):\n",
    "        plt.text(j, i, cm[i, j],\n",
    "                 horizontalalignment=\"center\",\n",
    "                 color=\"white\" if cm[i, j] > thresh else \"black\")\n",
    "    plt.tight_layout()\n",
    "    plt.ylabel('True label')\n",
    "    plt.xlabel('Predicted label')"
   ]
  },
  {
   "cell_type": "code",
   "execution_count": 31,
   "id": "7670827e",
   "metadata": {},
   "outputs": [
    {
     "name": "stdout",
     "output_type": "stream",
     "text": [
      "85/85 [==============================] - 65s 750ms/step\n",
      "Test Accuracy: 0.9121\n",
      "Precision: 0.9144\n",
      "Recall: 0.9121\n",
      "F1 Score: 0.9120\n",
      "Confusion Matrix:\n"
     ]
    },
    {
     "data": {
      "image/png": "[encoded data removed]",
      "text/plain": [
       "<Figure size 800x600 with 2 Axes>"
      ]
     },
     "metadata": {},
     "output_type": "display_data"
    },
    {
     "name": "stdout",
     "output_type": "stream",
     "text": [
      "Classification Report:\n",
      "              precision    recall  f1-score   support\n",
      "\n",
      "    overripe       0.92      0.84      0.88       545\n",
      "        ripe       0.87      0.96      0.91       791\n",
      "      rotten       0.92      0.92      0.92       902\n",
      "      unripe       0.97      0.90      0.94       458\n",
      "\n",
      "    accuracy                           0.91      2696\n",
      "   macro avg       0.92      0.91      0.91      2696\n",
      "weighted avg       0.91      0.91      0.91      2696\n",
      "\n"
     ]
    }
   ],
   "source": [
    "from sklearn.metrics import accuracy_score, precision_score, recall_score, f1_score, confusion_matrix, classification_report\n",
    "import seaborn as sns\n",
    "\n",
    "# Modelin tahminlerini alın\n",
    "y_pred_probs = model.predict(X_test)\n",
    "y_pred = np.argmax(y_pred_probs, axis=1)\n",
    "\n",
    "# Accuracy\n",
    "accuracy = accuracy_score(y_test, y_pred)\n",
    "print(f'Test Accuracy: {accuracy:.4f}')\n",
    "\n",
    "# Precision, Recall, F1 Score\n",
    "precision = precision_score(y_test, y_pred, average='weighted')\n",
    "recall = recall_score(y_test, y_pred, average='weighted')\n",
    "f1 = f1_score(y_test, y_pred, average='weighted')\n",
    "\n",
    "print(f'Precision: {precision:.4f}')\n",
    "print(f'Recall: {recall:.4f}')\n",
    "print(f'F1 Score: {f1:.4f}')\n",
    "\n",
    "# Karmaşıklık Matrisi\n",
    "conf_matrix = confusion_matrix(y_test, y_pred)\n",
    "print('Confusion Matrix:')\n",
    "plt.figure(figsize=(8, 6))\n",
    "sns.heatmap(conf_matrix, annot=True, fmt='d', cmap='Blues', xticklabels=labels, yticklabels=labels)\n",
    "plt.title('Confusion Matrix')\n",
    "plt.xlabel('Predicted')\n",
    "plt.ylabel('True')\n",
    "plt.show()\n",
    "#print(conf_matrix)\n",
    "\n",
    "# Classification Report\n",
    "class_report = classification_report(y_test, y_pred, target_names=labels)\n",
    "print('Classification Report:')\n",
    "print(class_report)"
   ]
  },
  {
   "cell_type": "code",
   "execution_count": 32,
   "id": "113cc270",
   "metadata": {},
   "outputs": [
    {
     "name": "stdout",
     "output_type": "stream",
     "text": [
      "85/85 [==============================] - 64s 758ms/step - loss: 0.2614 - accuracy: 0.9121\n",
      "Test Accuracy: 0.9120919704437256\n"
     ]
    }
   ],
   "source": [
    "test_loss, test_acc = model.evaluate(X_test, y_test)\n",
    "print(f\"Test Accuracy: {test_acc}\")"
   ]
  },
  {
   "cell_type": "code",
   "execution_count": null,
   "id": "39129c67",
   "metadata": {},
   "outputs": [],
   "source": [
    "#Soru3"
   ]
  },
  {
   "cell_type": "code",
   "execution_count": 33,
   "id": "b3b25206",
   "metadata": {},
   "outputs": [
    {
     "name": "stdout",
     "output_type": "stream",
     "text": [
      "Downloading data from https://storage.googleapis.com/keras-applications/efficientnetb0_notop.h5\n",
      "16705208/16705208 [==============================] - 14s 1us/step\n"
     ]
    }
   ],
   "source": [
    "from keras.applications.efficientnet import EfficientNetB0\n",
    "\n",
    "my_model = EfficientNetB0(weights='imagenet', include_top=False, input_shape=(64, 64, 3))"
   ]
  },
  {
   "cell_type": "code",
   "execution_count": 34,
   "id": "5d932ea6",
   "metadata": {},
   "outputs": [],
   "source": [
    "from tensorflow.keras.layers import GlobalAveragePooling2D\n",
    "\n",
    "model = Sequential()\n",
    "model.add(my_model)\n",
    "model.add(GlobalAveragePooling2D())\n",
    "model.add(Dense(256, activation='relu'))\n",
    "model.add(Dense(4, activation='softmax'))"
   ]
  },
  {
   "cell_type": "code",
   "execution_count": 35,
   "id": "913e1a21",
   "metadata": {},
   "outputs": [],
   "source": [
    "model.compile(optimizer='adam',\n",
    "              loss='categorical_crossentropy',\n",
    "              metrics=['accuracy'])"
   ]
  },
  {
   "cell_type": "code",
   "execution_count": 36,
   "id": "b10c5f20",
   "metadata": {},
   "outputs": [],
   "source": [
    "from tensorflow.keras.utils import to_categorical\n",
    "y_train_encoded = to_categorical(y_train, num_classes=4)\n",
    "y_val_encoded = to_categorical(y_val, num_classes=4)"
   ]
  },
  {
   "cell_type": "code",
   "execution_count": 37,
   "id": "9ec40b6e",
   "metadata": {},
   "outputs": [
    {
     "name": "stdout",
     "output_type": "stream",
     "text": [
      "Epoch 1/10\n",
      "303/303 [==============================] - 268s 609ms/step - loss: 0.3166 - accuracy: 0.8930 - val_loss: 0.4467 - val_accuracy: 0.8795\n",
      "Epoch 2/10\n",
      "303/303 [==============================] - 186s 612ms/step - loss: 0.1694 - accuracy: 0.9449 - val_loss: 0.1392 - val_accuracy: 0.9527\n",
      "Epoch 3/10\n",
      "303/303 [==============================] - 184s 606ms/step - loss: 0.1430 - accuracy: 0.9527 - val_loss: 0.1425 - val_accuracy: 0.9518\n",
      "Epoch 4/10\n",
      "303/303 [==============================] - 118s 388ms/step - loss: 0.1197 - accuracy: 0.9607 - val_loss: 0.1400 - val_accuracy: 0.9583\n",
      "Epoch 5/10\n",
      "303/303 [==============================] - 104s 343ms/step - loss: 0.1071 - accuracy: 0.9653 - val_loss: 0.1174 - val_accuracy: 0.9592\n",
      "Epoch 6/10\n",
      "303/303 [==============================] - 106s 351ms/step - loss: 0.0906 - accuracy: 0.9692 - val_loss: 0.1041 - val_accuracy: 0.9703\n",
      "Epoch 7/10\n",
      "303/303 [==============================] - 164s 540ms/step - loss: 0.0913 - accuracy: 0.9690 - val_loss: 0.0966 - val_accuracy: 0.9620\n",
      "Epoch 8/10\n",
      "303/303 [==============================] - 98s 325ms/step - loss: 0.1085 - accuracy: 0.9661 - val_loss: 0.0708 - val_accuracy: 0.9768\n",
      "Epoch 9/10\n",
      "303/303 [==============================] - 128s 422ms/step - loss: 0.0901 - accuracy: 0.9712 - val_loss: 0.0691 - val_accuracy: 0.9796\n",
      "Epoch 10/10\n",
      "303/303 [==============================] - 128s 423ms/step - loss: 0.0657 - accuracy: 0.9784 - val_loss: 0.0816 - val_accuracy: 0.9694\n"
     ]
    }
   ],
   "source": [
    "history = model.fit(datagen.flow(X_train, y_train_encoded, batch_size=32),\n",
    "                    steps_per_epoch=len(X_train) / 32, epochs=10, validation_data=(X_val, y_val_encoded))"
   ]
  },
  {
   "cell_type": "code",
   "execution_count": 38,
   "id": "436ffd3d",
   "metadata": {},
   "outputs": [],
   "source": [
    "import itertools\n",
    "\n",
    "#Plot the confusion matrix. Set Normalize = True/False\n",
    "def plot_confusion_matrix(cm, classes, normalize=True, title='Confusion matrix', cmap=plt.cm.Reds):\n",
    "    \"\"\"\n",
    "    This function prints and plots the confusion matrix.\n",
    "    Normalization can be applied by setting `normalize=True`.\n",
    "    \"\"\"\n",
    "    plt.figure(figsize=(10,10))\n",
    "    plt.imshow(cm, interpolation='nearest', cmap=cmap)\n",
    "    plt.title(title)\n",
    "    plt.colorbar()\n",
    "    tick_marks = np.arange(len(classes))\n",
    "    plt.xticks(tick_marks, classes, rotation=45)\n",
    "    plt.yticks(tick_marks, classes)\n",
    "    if normalize:\n",
    "        cm = cm.astype('float') / cm.sum(axis=1)[:, np.newaxis]\n",
    "        cm = np.around(cm, decimals=2)\n",
    "        cm[np.isnan(cm)] = 0.0\n",
    "    thresh = cm.max() / 2.\n",
    "    for i, j in itertools.product(range(cm.shape[0]), range(cm.shape[1])):\n",
    "        plt.text(j, i, cm[i, j],\n",
    "                 horizontalalignment=\"center\",\n",
    "                 color=\"white\" if cm[i, j] > thresh else \"black\")\n",
    "    plt.tight_layout()\n",
    "    plt.ylabel('True label')\n",
    "    plt.xlabel('Predicted label')"
   ]
  },
  {
   "cell_type": "code",
   "execution_count": 39,
   "id": "f9df4755",
   "metadata": {},
   "outputs": [
    {
     "name": "stdout",
     "output_type": "stream",
     "text": [
      "85/85 [==============================] - 32s 200ms/step\n",
      "Test Accuracy: 0.9781\n",
      "Precision: 0.9784\n",
      "Recall: 0.9781\n",
      "F1 Score: 0.9781\n",
      "Confusion Matrix:\n"
     ]
    },
    {
     "data": {
      "image/png": "[encoded data removed]",
      "text/plain": [
       "<Figure size 800x600 with 2 Axes>"
      ]
     },
     "metadata": {},
     "output_type": "display_data"
    },
    {
     "name": "stdout",
     "output_type": "stream",
     "text": [
      "Classification Report:\n",
      "              precision    recall  f1-score   support\n",
      "\n",
      "    overripe       0.96      1.00      0.98       545\n",
      "        ripe       0.99      0.96      0.98       791\n",
      "      rotten       0.97      0.98      0.98       902\n",
      "      unripe       0.99      0.99      0.99       458\n",
      "\n",
      "    accuracy                           0.98      2696\n",
      "   macro avg       0.98      0.98      0.98      2696\n",
      "weighted avg       0.98      0.98      0.98      2696\n",
      "\n"
     ]
    }
   ],
   "source": [
    "from sklearn.metrics import accuracy_score, precision_score, recall_score, f1_score, confusion_matrix, classification_report\n",
    "import seaborn as sns\n",
    "\n",
    "# Modelin tahminlerini alın\n",
    "y_pred_probs = model.predict(X_test)\n",
    "y_pred = np.argmax(y_pred_probs, axis=1)\n",
    "\n",
    "# Accuracy\n",
    "accuracy = accuracy_score(y_test, y_pred)\n",
    "print(f'Test Accuracy: {accuracy:.4f}')\n",
    "\n",
    "# Precision, Recall, F1 Score\n",
    "precision = precision_score(y_test, y_pred, average='weighted')\n",
    "recall = recall_score(y_test, y_pred, average='weighted')\n",
    "f1 = f1_score(y_test, y_pred, average='weighted')\n",
    "\n",
    "print(f'Precision: {precision:.4f}')\n",
    "print(f'Recall: {recall:.4f}')\n",
    "print(f'F1 Score: {f1:.4f}')\n",
    "\n",
    "# Karmaşıklık Matrisi\n",
    "conf_matrix = confusion_matrix(y_test, y_pred)\n",
    "print('Confusion Matrix:')\n",
    "plt.figure(figsize=(8, 6))\n",
    "sns.heatmap(conf_matrix, annot=True, fmt='d', cmap='Blues', xticklabels=labels, yticklabels=labels)\n",
    "plt.title('Confusion Matrix')\n",
    "plt.xlabel('Predicted')\n",
    "plt.ylabel('True')\n",
    "plt.show()\n",
    "#print(conf_matrix)\n",
    "\n",
    "# Classification Report\n",
    "class_report = classification_report(y_test, y_pred, target_names=labels)\n",
    "print('Classification Report:')\n",
    "print(class_report)"
   ]
  },
  {
   "cell_type": "code",
   "execution_count": null,
   "id": "e8dd7db4",
   "metadata": {},
   "outputs": [],
   "source": []
  }
 ],
 "metadata": {
  "kernelspec": {
   "display_name": "Python 3 (ipykernel)",
   "language": "python",
   "name": "python3"
  },
  "language_info": {
   "codemirror_mode": {
    "name": "ipython",
    "version": 3
   },
   "file_extension": ".py",
   "mimetype": "text/x-python",
   "name": "python",
   "nbconvert_exporter": "python",
   "pygments_lexer": "ipython3",
   "version": "3.10.7"
  }
 },
 "nbformat": 4,
 "nbformat_minor": 5
}
