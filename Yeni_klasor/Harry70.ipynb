{
 "cells": [
  {
   "cell_type": "code",
   "execution_count": 1,
   "id": "a8c9dadb",
   "metadata": {},
   "outputs": [
    {
     "name": "stdout",
     "output_type": "stream",
     "text": [
      "WARNING:tensorflow:From c:\\Users\\harun\\anaconda3\\lib\\site-packages\\keras\\src\\losses.py:2976: The name tf.losses.sparse_softmax_cross_entropy is deprecated. Please use tf.compat.v1.losses.sparse_softmax_cross_entropy instead.\n",
      "\n"
     ]
    }
   ],
   "source": [
    "#Soru1\n",
    "\n",
    "import tensorflow as tf\n",
    "from tensorflow.keras import models, layers\n",
    "import os\n",
    "import numpy as np\n",
    "import matplotlib.pyplot as plt\n",
    "from sklearn.model_selection import train_test_split\n",
    "from keras.models import Sequential\n",
    "from keras.layers import Conv2D, MaxPooling2D, Flatten, Dense\n",
    "from keras.preprocessing.image import ImageDataGenerator, load_img, img_to_array"
   ]
  },
  {
   "cell_type": "code",
   "execution_count": 3,
   "id": "0c882085",
   "metadata": {},
   "outputs": [
    {
     "name": "stdout",
     "output_type": "stream",
     "text": [
      "Found 13478 files belonging to 4 classes.\n"
     ]
    }
   ],
   "source": [
    "dataset_path = \"C:\\Bananat\"\n",
    "dataset = tf.keras.preprocessing.image_dataset_from_directory(dataset_path)\n",
    "#dataset = tf.keras.preprocessing.image_dataset_from_directory(\"C:/Users/Pc/Desktop/Bananat\")"
   ]
  },
  {
   "cell_type": "code",
   "execution_count": 4,
   "id": "618cb800",
   "metadata": {},
   "outputs": [
    {
     "data": {
      "text/plain": [
       "['overripe', 'ripe', 'rotten', 'unripe']"
      ]
     },
     "execution_count": 4,
     "metadata": {},
     "output_type": "execute_result"
    }
   ],
   "source": [
    "labels = dataset.class_names\n",
    "labels"
   ]
  },
  {
   "cell_type": "code",
   "execution_count": 5,
   "id": "626e1b53",
   "metadata": {},
   "outputs": [],
   "source": [
    "img_size = (64, 64)"
   ]
  },
  {
   "cell_type": "code",
   "execution_count": 6,
   "id": "5fc132f9",
   "metadata": {},
   "outputs": [],
   "source": [
    "data = []\n",
    "for label in labels:\n",
    "    label_path = os.path.join(dataset_path, label)\n",
    "    for img_file in os.listdir(label_path):           #Burada görüntü verilerini numpy dizilerine çeviriyor.\n",
    "        img_path = os.path.join(label_path, img_file)\n",
    "        img = load_img(img_path, target_size=img_size)\n",
    "        img_array = img_to_array(img)\n",
    "        data.append((img_array, label))"
   ]
  },
  {
   "cell_type": "code",
   "execution_count": 7,
   "id": "a6a0005a",
   "metadata": {},
   "outputs": [],
   "source": [
    "X = np.array([item[0] for item in data])                 #Burada giriş değer bilgilerini tutuyor.\n",
    "y = np.array([labels.index(item[1]) for item in data])"
   ]
  },
  {
   "cell_type": "code",
   "execution_count": 8,
   "id": "ecd8b56b",
   "metadata": {},
   "outputs": [],
   "source": [
    "X_train, X_test, y_train, y_test = train_test_split(X, y, test_size=0.3, random_state=42)"
   ]
  },
  {
   "cell_type": "code",
   "execution_count": 9,
   "id": "09c19d53",
   "metadata": {},
   "outputs": [],
   "source": [
    "X_train, X_val, y_train, y_val = train_test_split(X_train, y_train, test_size=0.1, random_state=42)"
   ]
  },
  {
   "cell_type": "code",
   "execution_count": 10,
   "id": "13afc6b5",
   "metadata": {},
   "outputs": [
    {
     "name": "stdout",
     "output_type": "stream",
     "text": [
      "WARNING:tensorflow:From c:\\Users\\harun\\anaconda3\\lib\\site-packages\\keras\\src\\backend.py:873: The name tf.get_default_graph is deprecated. Please use tf.compat.v1.get_default_graph instead.\n",
      "\n",
      "WARNING:tensorflow:From c:\\Users\\harun\\anaconda3\\lib\\site-packages\\keras\\src\\layers\\pooling\\max_pooling2d.py:161: The name tf.nn.max_pool is deprecated. Please use tf.nn.max_pool2d instead.\n",
      "\n"
     ]
    }
   ],
   "source": [
    "model = Sequential()\n",
    "model.add(Conv2D(32, (3, 3), activation='relu', input_shape=(64, 64, 3)))\n",
    "model.add(MaxPooling2D((2, 2)))\n",
    "model.add(Conv2D(64, (3, 3), activation='relu'))\n",
    "model.add(MaxPooling2D((2, 2)))\n",
    "model.add(Flatten())\n",
    "model.add(Dense(128, activation='relu'))\n",
    "model.add(Dense(4, activation='softmax'))"
   ]
  },
  {
   "cell_type": "code",
   "execution_count": 11,
   "id": "cb33d4df",
   "metadata": {},
   "outputs": [
    {
     "name": "stdout",
     "output_type": "stream",
     "text": [
      "WARNING:tensorflow:From c:\\Users\\harun\\anaconda3\\lib\\site-packages\\keras\\src\\optimizers\\__init__.py:309: The name tf.train.Optimizer is deprecated. Please use tf.compat.v1.train.Optimizer instead.\n",
      "\n"
     ]
    }
   ],
   "source": [
    "model.compile(optimizer='adam', loss='sparse_categorical_crossentropy', metrics=['accuracy'])"
   ]
  },
  {
   "cell_type": "code",
   "execution_count": 12,
   "id": "428b550c",
   "metadata": {},
   "outputs": [],
   "source": [
    "datagen = ImageDataGenerator(\n",
    "    rotation_range=20,\n",
    "    width_shift_range=0.2,         #Data augmentation işlemi yapıldı. Overfitting'i önler.\n",
    "    height_shift_range=0.2,\n",
    "    horizontal_flip=True\n",
    ")"
   ]
  },
  {
   "cell_type": "code",
   "execution_count": 13,
   "id": "76ec4996",
   "metadata": {},
   "outputs": [
    {
     "name": "stdout",
     "output_type": "stream",
     "text": [
      "Epoch 1/10\n",
      "WARNING:tensorflow:From c:\\Users\\harun\\anaconda3\\lib\\site-packages\\keras\\src\\utils\\tf_utils.py:492: The name tf.ragged.RaggedTensorValue is deprecated. Please use tf.compat.v1.ragged.RaggedTensorValue instead.\n",
      "\n",
      "WARNING:tensorflow:From c:\\Users\\harun\\anaconda3\\lib\\site-packages\\keras\\src\\engine\\base_layer_utils.py:384: The name tf.executing_eagerly_outside_functions is deprecated. Please use tf.compat.v1.executing_eagerly_outside_functions instead.\n",
      "\n",
      "265/265 [==============================] - 36s 123ms/step - loss: 6.6223 - accuracy: 0.5417 - val_loss: 0.7035 - val_accuracy: 0.7331\n",
      "Epoch 2/10\n",
      "265/265 [==============================] - 33s 124ms/step - loss: 0.6880 - accuracy: 0.7276 - val_loss: 0.6008 - val_accuracy: 0.7744\n",
      "Epoch 3/10\n",
      "265/265 [==============================] - 31s 116ms/step - loss: 0.5302 - accuracy: 0.7963 - val_loss: 0.4521 - val_accuracy: 0.8591\n",
      "Epoch 4/10\n",
      "265/265 [==============================] - 33s 123ms/step - loss: 0.4399 - accuracy: 0.8325 - val_loss: 0.7162 - val_accuracy: 0.7807\n",
      "Epoch 5/10\n",
      "265/265 [==============================] - 32s 121ms/step - loss: 0.4060 - accuracy: 0.8516 - val_loss: 0.4374 - val_accuracy: 0.8358\n",
      "Epoch 6/10\n",
      "265/265 [==============================] - 33s 126ms/step - loss: 0.3632 - accuracy: 0.8653 - val_loss: 0.4058 - val_accuracy: 0.8369\n",
      "Epoch 7/10\n",
      "265/265 [==============================] - 33s 126ms/step - loss: 0.3578 - accuracy: 0.8658 - val_loss: 0.2720 - val_accuracy: 0.9047\n",
      "Epoch 8/10\n",
      "265/265 [==============================] - 32s 121ms/step - loss: 0.3714 - accuracy: 0.8609 - val_loss: 0.3259 - val_accuracy: 0.8761\n",
      "Epoch 9/10\n",
      "265/265 [==============================] - 32s 121ms/step - loss: 0.3218 - accuracy: 0.8794 - val_loss: 0.2858 - val_accuracy: 0.8941\n",
      "Epoch 10/10\n",
      "265/265 [==============================] - 32s 122ms/step - loss: 0.3653 - accuracy: 0.8645 - val_loss: 0.3137 - val_accuracy: 0.8835\n"
     ]
    }
   ],
   "source": [
    "history = model.fit(datagen.flow(X_train, y_train, batch_size=32),    #Modelin performansını değerlendirir.\n",
    "                    steps_per_epoch=len(X_train) / 32, epochs=10, validation_data=(X_val, y_val))"
   ]
  },
  {
   "cell_type": "code",
   "execution_count": 14,
   "id": "d5f10f4b",
   "metadata": {},
   "outputs": [],
   "source": [
    "import itertools\n",
    "\n",
    "#Plot the confusion matrix. Set Normalize = True/False\n",
    "def plot_confusion_matrix(cm, classes, normalize=True, title='Confusion matrix', cmap=plt.cm.Reds):\n",
    "    \"\"\"\n",
    "    This function prints and plots the confusion matrix.\n",
    "    Normalization can be applied by setting `normalize=True`.\n",
    "    \"\"\"\n",
    "    plt.figure(figsize=(10,10))\n",
    "    plt.imshow(cm, interpolation='nearest', cmap=cmap)\n",
    "    plt.title(title)\n",
    "    plt.colorbar()\n",
    "    tick_marks = np.arange(len(classes))\n",
    "    plt.xticks(tick_marks, classes, rotation=45)\n",
    "    plt.yticks(tick_marks, classes)\n",
    "    if normalize:\n",
    "        cm = cm.astype('float') / cm.sum(axis=1)[:, np.newaxis]\n",
    "        cm = np.around(cm, decimals=2)\n",
    "        cm[np.isnan(cm)] = 0.0\n",
    "    thresh = cm.max() / 2.\n",
    "    for i, j in itertools.product(range(cm.shape[0]), range(cm.shape[1])):\n",
    "        plt.text(j, i, cm[i, j],\n",
    "                 horizontalalignment=\"center\",\n",
    "                 color=\"white\" if cm[i, j] > thresh else \"black\")\n",
    "    plt.tight_layout()\n",
    "    plt.ylabel('True label')\n",
    "    plt.xlabel('Predicted label')"
   ]
  },
  {
   "cell_type": "code",
   "execution_count": 15,
   "id": "7126da00",
   "metadata": {},
   "outputs": [
    {
     "name": "stdout",
     "output_type": "stream",
     "text": [
      "127/127 [==============================] - 4s 26ms/step\n",
      "Test Accuracy: 0.9033\n",
      "Precision: 0.9061\n",
      "Recall: 0.9033\n",
      "F1 Score: 0.9032\n",
      "Confusion Matrix:\n"
     ]
    },
    {
     "data": {
      "image/png": "[encoded data removed]",
      "text/plain": [
       "<Figure size 800x600 with 2 Axes>"
      ]
     },
     "metadata": {},
     "output_type": "display_data"
    },
    {
     "name": "stdout",
     "output_type": "stream",
     "text": [
      "Classification Report:\n",
      "              precision    recall  f1-score   support\n",
      "\n",
      "    overripe       0.90      0.84      0.87       822\n",
      "        ripe       0.94      0.86      0.90      1193\n",
      "      rotten       0.85      0.94      0.89      1358\n",
      "      unripe       0.97      0.98      0.98       671\n",
      "\n",
      "    accuracy                           0.90      4044\n",
      "   macro avg       0.92      0.91      0.91      4044\n",
      "weighted avg       0.91      0.90      0.90      4044\n",
      "\n"
     ]
    }
   ],
   "source": [
    "from sklearn.metrics import accuracy_score, precision_score, recall_score, f1_score, confusion_matrix, classification_report\n",
    "import seaborn as sns\n",
    "\n",
    "# Modelin tahminlerini alın\n",
    "y_pred_probs = model.predict(X_test)\n",
    "y_pred = np.argmax(y_pred_probs, axis=1)\n",
    "\n",
    "# Accuracy\n",
    "accuracy = accuracy_score(y_test, y_pred)\n",
    "print(f'Test Accuracy: {accuracy:.4f}')\n",
    "\n",
    "# Precision, Recall, F1 Score\n",
    "precision = precision_score(y_test, y_pred, average='weighted')\n",
    "recall = recall_score(y_test, y_pred, average='weighted')\n",
    "f1 = f1_score(y_test, y_pred, average='weighted')\n",
    "\n",
    "print(f'Precision: {precision:.4f}')\n",
    "print(f'Recall: {recall:.4f}')\n",
    "print(f'F1 Score: {f1:.4f}')\n",
    "\n",
    "# Karmaşıklık Matrisi\n",
    "conf_matrix = confusion_matrix(y_test, y_pred)\n",
    "print('Confusion Matrix:')\n",
    "plt.figure(figsize=(8, 6))\n",
    "sns.heatmap(conf_matrix, annot=True, fmt='d', cmap='Blues', xticklabels=labels, yticklabels=labels)\n",
    "plt.title('Confusion Matrix')\n",
    "plt.xlabel('Predicted')\n",
    "plt.ylabel('True')\n",
    "plt.show()\n",
    "#print(conf_matrix)\n",
    "\n",
    "# Classification Report\n",
    "class_report = classification_report(y_test, y_pred, target_names=labels)\n",
    "print('Classification Report:')\n",
    "print(class_report)\n",
    " "
   ]
  },
  {
   "cell_type": "code",
   "execution_count": null,
   "id": "482199c5",
   "metadata": {},
   "outputs": [],
   "source": [
    "#Soru2"
   ]
  },
  {
   "cell_type": "code",
   "execution_count": 16,
   "id": "5f3585f7",
   "metadata": {},
   "outputs": [],
   "source": [
    "from tensorflow.keras.applications import VGG16     # CNN mimarilerinden biridir.Transfer learning işlemini gerçekleştirir.\n",
    "base_model = VGG16(weights='imagenet', include_top=False, input_shape=(64, 64, 3))"
   ]
  },
  {
   "cell_type": "code",
   "execution_count": 17,
   "id": "50e27274",
   "metadata": {},
   "outputs": [],
   "source": [
    "model = Sequential()\n",
    "model.add(base_model)\n",
    "model.add(Flatten())\n",
    "model.add(Dense(128, activation='relu'))\n",
    "model.add(Dense(4, activation='softmax'))"
   ]
  },
  {
   "cell_type": "code",
   "execution_count": 18,
   "id": "4fb376ac",
   "metadata": {},
   "outputs": [],
   "source": [
    "for layer in base_model.layers:\n",
    "    layer.trainable = False"
   ]
  },
  {
   "cell_type": "code",
   "execution_count": 19,
   "id": "3a326a6a",
   "metadata": {},
   "outputs": [],
   "source": [
    "model.compile(optimizer='adam', loss='sparse_categorical_crossentropy', metrics=['accuracy'])"
   ]
  },
  {
   "cell_type": "code",
   "execution_count": 20,
   "id": "a5413c18",
   "metadata": {},
   "outputs": [],
   "source": [
    "datagen = ImageDataGenerator(\n",
    "    rotation_range=20,\n",
    "    width_shift_range=0.2,\n",
    "    height_shift_range=0.2,\n",
    "    horizontal_flip=True\n",
    ")"
   ]
  },
  {
   "cell_type": "code",
   "execution_count": 21,
   "id": "bac27a73",
   "metadata": {},
   "outputs": [
    {
     "name": "stdout",
     "output_type": "stream",
     "text": [
      "Epoch 1/10\n",
      "265/265 [==============================] - 222s 824ms/step - loss: 2.0108 - accuracy: 0.7555 - val_loss: 0.5665 - val_accuracy: 0.8167\n",
      "Epoch 2/10\n",
      "265/265 [==============================] - 144s 543ms/step - loss: 0.4455 - accuracy: 0.8488 - val_loss: 0.3959 - val_accuracy: 0.8581\n",
      "Epoch 3/10\n",
      "265/265 [==============================] - 111s 418ms/step - loss: 0.3673 - accuracy: 0.8702 - val_loss: 0.4333 - val_accuracy: 0.8697\n",
      "Epoch 4/10\n",
      "265/265 [==============================] - 107s 403ms/step - loss: 0.3177 - accuracy: 0.8866 - val_loss: 0.2981 - val_accuracy: 0.8951\n",
      "Epoch 5/10\n",
      "265/265 [==============================] - 108s 406ms/step - loss: 0.2849 - accuracy: 0.8980 - val_loss: 0.2907 - val_accuracy: 0.9047\n",
      "Epoch 6/10\n",
      "265/265 [==============================] - 177s 669ms/step - loss: 0.2850 - accuracy: 0.9035 - val_loss: 0.2770 - val_accuracy: 0.9047\n",
      "Epoch 7/10\n",
      "265/265 [==============================] - 123s 465ms/step - loss: 0.2545 - accuracy: 0.9082 - val_loss: 0.2699 - val_accuracy: 0.9057\n",
      "Epoch 8/10\n",
      "265/265 [==============================] - 166s 626ms/step - loss: 0.2377 - accuracy: 0.9155 - val_loss: 0.2742 - val_accuracy: 0.9110\n",
      "Epoch 9/10\n",
      "265/265 [==============================] - 248s 935ms/step - loss: 0.2381 - accuracy: 0.9159 - val_loss: 0.3433 - val_accuracy: 0.8909\n",
      "Epoch 10/10\n",
      "265/265 [==============================] - 250s 942ms/step - loss: 0.2344 - accuracy: 0.9147 - val_loss: 0.2775 - val_accuracy: 0.9121\n"
     ]
    }
   ],
   "source": [
    "history = model.fit(datagen.flow(X_train, y_train, batch_size=32),\n",
    "                    steps_per_epoch=len(X_train) / 32, epochs=10, validation_data=(X_val, y_val))"
   ]
  },
  {
   "cell_type": "code",
   "execution_count": 22,
   "id": "ef678516",
   "metadata": {},
   "outputs": [],
   "source": [
    "import itertools\n",
    "\n",
    "#Plot the confusion matrix. Set Normalize = True/False\n",
    "def plot_confusion_matrix(cm, classes, normalize=True, title='Confusion matrix', cmap=plt.cm.Reds):\n",
    "    \"\"\"\n",
    "    This function prints and plots the confusion matrix.\n",
    "    Normalization can be applied by setting `normalize=True`.\n",
    "    \"\"\"\n",
    "    plt.figure(figsize=(10,10))\n",
    "    plt.imshow(cm, interpolation='nearest', cmap=cmap)\n",
    "    plt.title(title)\n",
    "    plt.colorbar()\n",
    "    tick_marks = np.arange(len(classes))\n",
    "    plt.xticks(tick_marks, classes, rotation=45)\n",
    "    plt.yticks(tick_marks, classes)\n",
    "    if normalize:\n",
    "        cm = cm.astype('float') / cm.sum(axis=1)[:, np.newaxis]\n",
    "        cm = np.around(cm, decimals=2)\n",
    "        cm[np.isnan(cm)] = 0.0\n",
    "    thresh = cm.max() / 2.\n",
    "    for i, j in itertools.product(range(cm.shape[0]), range(cm.shape[1])):\n",
    "        plt.text(j, i, cm[i, j],\n",
    "                 horizontalalignment=\"center\",\n",
    "                 color=\"white\" if cm[i, j] > thresh else \"black\")\n",
    "    plt.tight_layout()\n",
    "    plt.ylabel('True label')\n",
    "    plt.xlabel('Predicted label')"
   ]
  },
  {
   "cell_type": "code",
   "execution_count": 23,
   "id": "69b76332",
   "metadata": {},
   "outputs": [
    {
     "name": "stdout",
     "output_type": "stream",
     "text": [
      "127/127 [==============================] - 116s 894ms/step\n",
      "Test Accuracy: 0.9120\n",
      "Precision: 0.9140\n",
      "Recall: 0.9120\n",
      "F1 Score: 0.9116\n",
      "Confusion Matrix:\n"
     ]
    },
    {
     "data": {
      "image/png": "[encoded data removed]",
      "text/plain": [
       "<Figure size 800x600 with 2 Axes>"
      ]
     },
     "metadata": {},
     "output_type": "display_data"
    },
    {
     "name": "stdout",
     "output_type": "stream",
     "text": [
      "Classification Report:\n",
      "              precision    recall  f1-score   support\n",
      "\n",
      "    overripe       0.92      0.83      0.87       822\n",
      "        ripe       0.87      0.97      0.92      1193\n",
      "      rotten       0.93      0.92      0.92      1358\n",
      "      unripe       0.96      0.90      0.93       671\n",
      "\n",
      "    accuracy                           0.91      4044\n",
      "   macro avg       0.92      0.90      0.91      4044\n",
      "weighted avg       0.91      0.91      0.91      4044\n",
      "\n"
     ]
    }
   ],
   "source": [
    "from sklearn.metrics import accuracy_score, precision_score, recall_score, f1_score, confusion_matrix, classification_report\n",
    "import seaborn as sns\n",
    "\n",
    "# Modelin tahminlerini alın\n",
    "y_pred_probs = model.predict(X_test)\n",
    "y_pred = np.argmax(y_pred_probs, axis=1)\n",
    "\n",
    "# Accuracy\n",
    "accuracy = accuracy_score(y_test, y_pred)\n",
    "print(f'Test Accuracy: {accuracy:.4f}')\n",
    "\n",
    "# Precision, Recall, F1 Score\n",
    "precision = precision_score(y_test, y_pred, average='weighted')\n",
    "recall = recall_score(y_test, y_pred, average='weighted')\n",
    "f1 = f1_score(y_test, y_pred, average='weighted')\n",
    "\n",
    "print(f'Precision: {precision:.4f}')\n",
    "print(f'Recall: {recall:.4f}')\n",
    "print(f'F1 Score: {f1:.4f}')\n",
    "\n",
    "# Karmaşıklık Matrisi\n",
    "conf_matrix = confusion_matrix(y_test, y_pred)\n",
    "print('Confusion Matrix:')\n",
    "plt.figure(figsize=(8, 6))\n",
    "sns.heatmap(conf_matrix, annot=True, fmt='d', cmap='Blues', xticklabels=labels, yticklabels=labels)\n",
    "plt.title('Confusion Matrix')\n",
    "plt.xlabel('Predicted')\n",
    "plt.ylabel('True')\n",
    "plt.show()\n",
    "#print(conf_matrix)\n",
    "\n",
    "# Classification Report\n",
    "class_report = classification_report(y_test, y_pred, target_names=labels)\n",
    "print('Classification Report:')\n",
    "print(class_report)"
   ]
  },
  {
   "cell_type": "code",
   "execution_count": null,
   "id": "07d1390b",
   "metadata": {},
   "outputs": [],
   "source": [
    "#Soru3"
   ]
  },
  {
   "cell_type": "code",
   "execution_count": 24,
   "id": "45e14bcd",
   "metadata": {},
   "outputs": [],
   "source": [
    "from keras.applications.efficientnet import EfficientNetB0  #CNN mimarilerinden biridir.Modelin performansını,verimliliğini artırır.\n",
    "\n",
    "my_model = EfficientNetB0(weights='imagenet', include_top=False, input_shape=(64, 64, 3))"
   ]
  },
  {
   "cell_type": "code",
   "execution_count": 25,
   "id": "160c5234",
   "metadata": {},
   "outputs": [],
   "source": [
    "from tensorflow.keras.layers import GlobalAveragePooling2D\n",
    "\n",
    "model = Sequential()\n",
    "model.add(my_model)\n",
    "model.add(GlobalAveragePooling2D())\n",
    "model.add(Dense(256, activation='relu'))\n",
    "model.add(Dense(4, activation='softmax'))"
   ]
  },
  {
   "cell_type": "code",
   "execution_count": 26,
   "id": "a758bc00",
   "metadata": {},
   "outputs": [],
   "source": [
    "model.compile(optimizer='adam',\n",
    "              loss='categorical_crossentropy',\n",
    "              metrics=['accuracy'])"
   ]
  },
  {
   "cell_type": "code",
   "execution_count": 27,
   "id": "92993247",
   "metadata": {},
   "outputs": [],
   "source": [
    "from tensorflow.keras.utils import to_categorical\n",
    "y_train_encoded = to_categorical(y_train, num_classes=4)\n",
    "y_val_encoded = to_categorical(y_val, num_classes=4)"
   ]
  },
  {
   "cell_type": "code",
   "execution_count": 28,
   "id": "4617fb73",
   "metadata": {},
   "outputs": [
    {
     "name": "stdout",
     "output_type": "stream",
     "text": [
      "Epoch 1/10\n"
     ]
    },
    {
     "name": "stdout",
     "output_type": "stream",
     "text": [
      "265/265 [==============================] - 322s 419ms/step - loss: 0.3340 - accuracy: 0.8852 - val_loss: 0.5030 - val_accuracy: 0.8739\n",
      "Epoch 2/10\n",
      "265/265 [==============================] - 95s 357ms/step - loss: 0.1807 - accuracy: 0.9389 - val_loss: 0.1170 - val_accuracy: 0.9650\n",
      "Epoch 3/10\n",
      "265/265 [==============================] - 96s 360ms/step - loss: 0.1498 - accuracy: 0.9523 - val_loss: 0.1542 - val_accuracy: 0.9513\n",
      "Epoch 4/10\n",
      "265/265 [==============================] - 94s 355ms/step - loss: 0.1186 - accuracy: 0.9577 - val_loss: 0.2455 - val_accuracy: 0.9153\n",
      "Epoch 5/10\n",
      "265/265 [==============================] - 90s 340ms/step - loss: 0.1254 - accuracy: 0.9603 - val_loss: 0.0963 - val_accuracy: 0.9640\n",
      "Epoch 6/10\n",
      "265/265 [==============================] - 85s 320ms/step - loss: 0.1013 - accuracy: 0.9644 - val_loss: 0.1573 - val_accuracy: 0.9587\n",
      "Epoch 7/10\n",
      "265/265 [==============================] - 109s 411ms/step - loss: 0.1129 - accuracy: 0.9594 - val_loss: 0.0646 - val_accuracy: 0.9778\n",
      "Epoch 8/10\n",
      "265/265 [==============================] - 94s 353ms/step - loss: 0.0810 - accuracy: 0.9744 - val_loss: 0.0752 - val_accuracy: 0.9799\n",
      "Epoch 9/10\n",
      "265/265 [==============================] - 81s 305ms/step - loss: 0.0866 - accuracy: 0.9717 - val_loss: 0.0604 - val_accuracy: 0.9746\n",
      "Epoch 10/10\n",
      "265/265 [==============================] - 86s 323ms/step - loss: 0.0774 - accuracy: 0.9748 - val_loss: 0.0887 - val_accuracy: 0.9735\n"
     ]
    }
   ],
   "source": [
    "history = model.fit(datagen.flow(X_train, y_train_encoded, batch_size=32),\n",
    "                    steps_per_epoch=len(X_train) / 32, epochs=10, validation_data=(X_val, y_val_encoded))"
   ]
  },
  {
   "cell_type": "code",
   "execution_count": 29,
   "id": "102365fe",
   "metadata": {},
   "outputs": [],
   "source": [
    "import itertools\n",
    "\n",
    "#Plot the confusion matrix. Set Normalize = True/False\n",
    "def plot_confusion_matrix(cm, classes, normalize=True, title='Confusion matrix', cmap=plt.cm.Reds):\n",
    "    \"\"\"\n",
    "    This function prints and plots the confusion matrix.\n",
    "    Normalization can be applied by setting `normalize=True`.\n",
    "    \"\"\"\n",
    "    plt.figure(figsize=(10,10))\n",
    "    plt.imshow(cm, interpolation='nearest', cmap=cmap)\n",
    "    plt.title(title)\n",
    "    plt.colorbar()\n",
    "    tick_marks = np.arange(len(classes))\n",
    "    plt.xticks(tick_marks, classes, rotation=45)\n",
    "    plt.yticks(tick_marks, classes)\n",
    "    if normalize:\n",
    "        cm = cm.astype('float') / cm.sum(axis=1)[:, np.newaxis]\n",
    "        cm = np.around(cm, decimals=2)\n",
    "        cm[np.isnan(cm)] = 0.0\n",
    "    thresh = cm.max() / 2.\n",
    "    for i, j in itertools.product(range(cm.shape[0]), range(cm.shape[1])):\n",
    "        plt.text(j, i, cm[i, j],\n",
    "                 horizontalalignment=\"center\",\n",
    "                 color=\"white\" if cm[i, j] > thresh else \"black\")\n",
    "    plt.tight_layout()\n",
    "    plt.ylabel('True label')\n",
    "    plt.xlabel('Predicted label')"
   ]
  },
  {
   "cell_type": "code",
   "execution_count": 30,
   "id": "8db42bcb",
   "metadata": {},
   "outputs": [
    {
     "name": "stdout",
     "output_type": "stream",
     "text": [
      "127/127 [==============================] - 10s 63ms/step\n",
      "Test Accuracy: 0.9797\n",
      "Precision: 0.9798\n",
      "Recall: 0.9797\n",
      "F1 Score: 0.9797\n",
      "Confusion Matrix:\n"
     ]
    },
    {
     "data": {
      "image/png": "[encoded data removed]",
      "text/plain": [
       "<Figure size 800x600 with 2 Axes>"
      ]
     },
     "metadata": {},
     "output_type": "display_data"
    },
    {
     "name": "stdout",
     "output_type": "stream",
     "text": [
      "Classification Report:\n",
      "              precision    recall  f1-score   support\n",
      "\n",
      "    overripe       0.98      0.97      0.97       822\n",
      "        ripe       0.98      0.99      0.98      1193\n",
      "      rotten       0.98      0.98      0.98      1358\n",
      "      unripe       0.99      0.98      0.99       671\n",
      "\n",
      "    accuracy                           0.98      4044\n",
      "   macro avg       0.98      0.98      0.98      4044\n",
      "weighted avg       0.98      0.98      0.98      4044\n",
      "\n"
     ]
    }
   ],
   "source": [
    "from sklearn.metrics import accuracy_score, precision_score, recall_score, f1_score, confusion_matrix, classification_report\n",
    "import seaborn as sns\n",
    "\n",
    "# Modelin tahminlerini alın\n",
    "y_pred_probs = model.predict(X_test)\n",
    "y_pred = np.argmax(y_pred_probs, axis=1)\n",
    "\n",
    "# Accuracy\n",
    "accuracy = accuracy_score(y_test, y_pred)\n",
    "print(f'Test Accuracy: {accuracy:.4f}')\n",
    "\n",
    "# Precision, Recall, F1 Score\n",
    "precision = precision_score(y_test, y_pred, average='weighted')\n",
    "recall = recall_score(y_test, y_pred, average='weighted')\n",
    "f1 = f1_score(y_test, y_pred, average='weighted')\n",
    "\n",
    "print(f'Precision: {precision:.4f}')\n",
    "print(f'Recall: {recall:.4f}')\n",
    "print(f'F1 Score: {f1:.4f}')\n",
    "\n",
    "# Karmaşıklık Matrisi\n",
    "conf_matrix = confusion_matrix(y_test, y_pred)\n",
    "print('Confusion Matrix:')\n",
    "plt.figure(figsize=(8, 6))\n",
    "sns.heatmap(conf_matrix, annot=True, fmt='d', cmap='Blues', xticklabels=labels, yticklabels=labels)\n",
    "plt.title('Confusion Matrix')\n",
    "plt.xlabel('Predicted')\n",
    "plt.ylabel('True')\n",
    "plt.show()\n",
    "#print(conf_matrix)\n",
    "\n",
    "# Classification Report\n",
    "class_report = classification_report(y_test, y_pred, target_names=labels)\n",
    "print('Classification Report:')\n",
    "print(class_report)"
   ]
  },
  {
   "cell_type": "code",
   "execution_count": null,
   "id": "27285c20",
   "metadata": {},
   "outputs": [],
   "source": []
  }
 ],
 "metadata": {
  "kernelspec": {
   "display_name": "Python 3 (ipykernel)",
   "language": "python",
   "name": "python3"
  },
  "language_info": {
   "codemirror_mode": {
    "name": "ipython",
    "version": 3
   },
   "file_extension": ".py",
   "mimetype": "text/x-python",
   "name": "python",
   "nbconvert_exporter": "python",
   "pygments_lexer": "ipython3",
   "version": "3.10.9"
  }
 },
 "nbformat": 4,
 "nbformat_minor": 5
}
